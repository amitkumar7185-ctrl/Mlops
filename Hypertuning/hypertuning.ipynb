{
 "cells": [
  {
   "cell_type": "code",
   "execution_count": 16,
   "metadata": {},
   "outputs": [
    {
     "name": "stdout",
     "output_type": "stream",
     "text": [
      "Collecting flask\n",
      "  Downloading flask-3.1.0-py3-none-any.whl.metadata (2.7 kB)\n",
      "Collecting Werkzeug>=3.1 (from flask)\n",
      "  Downloading werkzeug-3.1.3-py3-none-any.whl.metadata (3.7 kB)\n",
      "Collecting Jinja2>=3.1.2 (from flask)\n",
      "  Downloading jinja2-3.1.5-py3-none-any.whl.metadata (2.6 kB)\n",
      "Collecting itsdangerous>=2.2 (from flask)\n",
      "  Downloading itsdangerous-2.2.0-py3-none-any.whl.metadata (1.9 kB)\n",
      "Collecting click>=8.1.3 (from flask)\n",
      "  Downloading click-8.1.8-py3-none-any.whl.metadata (2.3 kB)\n",
      "Collecting blinker>=1.9 (from flask)\n",
      "  Downloading blinker-1.9.0-py3-none-any.whl.metadata (1.6 kB)\n",
      "Requirement already satisfied: colorama in c:\\users\\hemam\\miniconda3\\envs\\mlops\\lib\\site-packages (from click>=8.1.3->flask) (0.4.6)\n",
      "Requirement already satisfied: MarkupSafe>=2.0 in c:\\users\\hemam\\miniconda3\\envs\\mlops\\lib\\site-packages (from Jinja2>=3.1.2->flask) (3.0.2)\n",
      "Downloading flask-3.1.0-py3-none-any.whl (102 kB)\n",
      "Downloading blinker-1.9.0-py3-none-any.whl (8.5 kB)\n",
      "Downloading click-8.1.8-py3-none-any.whl (98 kB)\n",
      "Downloading itsdangerous-2.2.0-py3-none-any.whl (16 kB)\n",
      "Downloading jinja2-3.1.5-py3-none-any.whl (134 kB)\n",
      "Downloading werkzeug-3.1.3-py3-none-any.whl (224 kB)\n",
      "Installing collected packages: Werkzeug, Jinja2, itsdangerous, click, blinker, flask\n",
      "Successfully installed Jinja2-3.1.5 Werkzeug-3.1.3 blinker-1.9.0 click-8.1.8 flask-3.1.0 itsdangerous-2.2.0\n"
     ]
    }
   ],
   "source": [
    "#!pip install optuna\n",
    "!pip install flask\n",
    "\n"
   ]
  },
  {
   "cell_type": "markdown",
   "metadata": {},
   "source": [
    "# Hyperparameter Tuning"
   ]
  },
  {
   "cell_type": "markdown",
   "metadata": {},
   "source": [
    "## Using Optuna"
   ]
  },
  {
   "cell_type": "code",
   "execution_count": 12,
   "metadata": {},
   "outputs": [],
   "source": [
    "import optuna\n",
    "from sklearn.datasets import load_iris\n",
    "from sklearn.model_selection import train_test_split\n",
    "from sklearn.ensemble import RandomForestClassifier\n",
    "from sklearn.metrics import accuracy_score\n",
    "data = load_iris()\n",
    "X_train, X_test, y_train, y_test = train_test_split(data.data, data.target, test_size=0.2)\n",
    "\n",
    "def objective(trial):   \n",
    "\n",
    "    n_estimators = trial.suggest_int('n_estimators', 2, 100)\n",
    "    max_depth = trial.suggest_int('max_depth', 1, 32)\n",
    "    clf = RandomForestClassifier(n_estimators=n_estimators, max_depth=max_depth)\n",
    "\n",
    "    clf.fit(X_train, y_train)\n",
    "    preds = clf.predict(X_test)\n",
    "    accuracy = accuracy_score(y_test, preds)\n",
    "    return accuracy\n"
   ]
  },
  {
   "cell_type": "code",
   "execution_count": 9,
   "metadata": {},
   "outputs": [
    {
     "name": "stderr",
     "output_type": "stream",
     "text": [
      "[I 2025-01-07 20:54:13,684] A new study created in memory with name: no-name-2c7eae80-446e-4329-b733-a33d1b3239f4\n",
      "[I 2025-01-07 20:54:13,747] Trial 0 finished with value: 1.0 and parameters: {'n_estimators': 68, 'max_depth': 13}. Best is trial 0 with value: 1.0.\n",
      "[I 2025-01-07 20:54:13,813] Trial 1 finished with value: 0.9333333333333333 and parameters: {'n_estimators': 74, 'max_depth': 3}. Best is trial 0 with value: 1.0.\n",
      "[I 2025-01-07 20:54:13,900] Trial 2 finished with value: 0.9666666666666667 and parameters: {'n_estimators': 98, 'max_depth': 15}. Best is trial 0 with value: 1.0.\n",
      "[I 2025-01-07 20:54:13,928] Trial 3 finished with value: 0.9666666666666667 and parameters: {'n_estimators': 22, 'max_depth': 12}. Best is trial 0 with value: 1.0.\n",
      "[I 2025-01-07 20:54:13,935] Trial 4 finished with value: 1.0 and parameters: {'n_estimators': 2, 'max_depth': 28}. Best is trial 0 with value: 1.0.\n",
      "[I 2025-01-07 20:54:13,989] Trial 5 finished with value: 0.9 and parameters: {'n_estimators': 63, 'max_depth': 29}. Best is trial 0 with value: 1.0.\n",
      "[I 2025-01-07 20:54:14,047] Trial 6 finished with value: 0.9 and parameters: {'n_estimators': 58, 'max_depth': 4}. Best is trial 0 with value: 1.0.\n",
      "[I 2025-01-07 20:54:14,055] Trial 7 finished with value: 0.9666666666666667 and parameters: {'n_estimators': 2, 'max_depth': 7}. Best is trial 0 with value: 1.0.\n",
      "[I 2025-01-07 20:54:14,068] Trial 8 finished with value: 0.9666666666666667 and parameters: {'n_estimators': 9, 'max_depth': 19}. Best is trial 0 with value: 1.0.\n",
      "[I 2025-01-07 20:54:14,145] Trial 9 finished with value: 0.9 and parameters: {'n_estimators': 85, 'max_depth': 32}. Best is trial 0 with value: 1.0.\n",
      "[I 2025-01-07 20:54:14,197] Trial 10 finished with value: 0.9666666666666667 and parameters: {'n_estimators': 37, 'max_depth': 21}. Best is trial 0 with value: 1.0.\n",
      "[I 2025-01-07 20:54:14,250] Trial 11 finished with value: 0.9333333333333333 and parameters: {'n_estimators': 41, 'max_depth': 26}. Best is trial 0 with value: 1.0.\n",
      "[I 2025-01-07 20:54:14,290] Trial 12 finished with value: 0.9333333333333333 and parameters: {'n_estimators': 26, 'max_depth': 24}. Best is trial 0 with value: 1.0.\n",
      "[I 2025-01-07 20:54:14,360] Trial 13 finished with value: 0.9 and parameters: {'n_estimators': 71, 'max_depth': 11}. Best is trial 0 with value: 1.0.\n",
      "[I 2025-01-07 20:54:14,411] Trial 14 finished with value: 0.8666666666666667 and parameters: {'n_estimators': 46, 'max_depth': 16}. Best is trial 0 with value: 1.0.\n",
      "[I 2025-01-07 20:54:14,491] Trial 15 finished with value: 0.9666666666666667 and parameters: {'n_estimators': 81, 'max_depth': 10}. Best is trial 0 with value: 1.0.\n",
      "[I 2025-01-07 20:54:14,546] Trial 16 finished with value: 0.9333333333333333 and parameters: {'n_estimators': 54, 'max_depth': 21}. Best is trial 0 with value: 1.0.\n",
      "[I 2025-01-07 20:54:14,582] Trial 17 finished with value: 0.9 and parameters: {'n_estimators': 28, 'max_depth': 27}. Best is trial 0 with value: 1.0.\n",
      "[I 2025-01-07 20:54:14,670] Trial 18 finished with value: 0.9666666666666667 and parameters: {'n_estimators': 91, 'max_depth': 15}. Best is trial 0 with value: 1.0.\n",
      "[I 2025-01-07 20:54:14,735] Trial 19 finished with value: 0.9333333333333333 and parameters: {'n_estimators': 68, 'max_depth': 30}. Best is trial 0 with value: 1.0.\n",
      "[I 2025-01-07 20:54:14,760] Trial 20 finished with value: 0.9666666666666667 and parameters: {'n_estimators': 15, 'max_depth': 7}. Best is trial 0 with value: 1.0.\n",
      "[I 2025-01-07 20:54:14,859] Trial 21 finished with value: 0.9 and parameters: {'n_estimators': 100, 'max_depth': 14}. Best is trial 0 with value: 1.0.\n",
      "[I 2025-01-07 20:54:14,948] Trial 22 finished with value: 0.9 and parameters: {'n_estimators': 99, 'max_depth': 18}. Best is trial 0 with value: 1.0.\n",
      "[I 2025-01-07 20:54:15,024] Trial 23 finished with value: 0.9 and parameters: {'n_estimators': 78, 'max_depth': 8}. Best is trial 0 with value: 1.0.\n",
      "[I 2025-01-07 20:54:15,108] Trial 24 finished with value: 0.9333333333333333 and parameters: {'n_estimators': 88, 'max_depth': 24}. Best is trial 0 with value: 1.0.\n",
      "[I 2025-01-07 20:54:15,148] Trial 25 finished with value: 0.9666666666666667 and parameters: {'n_estimators': 35, 'max_depth': 13}. Best is trial 0 with value: 1.0.\n",
      "[I 2025-01-07 20:54:15,238] Trial 26 finished with value: 1.0 and parameters: {'n_estimators': 93, 'max_depth': 21}. Best is trial 0 with value: 1.0.\n",
      "[I 2025-01-07 20:54:15,299] Trial 27 finished with value: 0.9666666666666667 and parameters: {'n_estimators': 59, 'max_depth': 22}. Best is trial 0 with value: 1.0.\n",
      "[I 2025-01-07 20:54:15,351] Trial 28 finished with value: 1.0 and parameters: {'n_estimators': 48, 'max_depth': 19}. Best is trial 0 with value: 1.0.\n",
      "[I 2025-01-07 20:54:15,422] Trial 29 finished with value: 1.0 and parameters: {'n_estimators': 73, 'max_depth': 26}. Best is trial 0 with value: 1.0.\n",
      "[I 2025-01-07 20:54:15,482] Trial 30 finished with value: 0.9333333333333333 and parameters: {'n_estimators': 65, 'max_depth': 1}. Best is trial 0 with value: 1.0.\n",
      "[I 2025-01-07 20:54:15,536] Trial 31 finished with value: 0.9 and parameters: {'n_estimators': 50, 'max_depth': 18}. Best is trial 0 with value: 1.0.\n",
      "[I 2025-01-07 20:54:15,620] Trial 32 finished with value: 0.9 and parameters: {'n_estimators': 91, 'max_depth': 23}. Best is trial 0 with value: 1.0.\n",
      "[I 2025-01-07 20:54:15,648] Trial 33 finished with value: 0.9666666666666667 and parameters: {'n_estimators': 17, 'max_depth': 17}. Best is trial 0 with value: 1.0.\n",
      "[I 2025-01-07 20:54:15,723] Trial 34 finished with value: 0.9666666666666667 and parameters: {'n_estimators': 76, 'max_depth': 20}. Best is trial 0 with value: 1.0.\n",
      "[I 2025-01-07 20:54:15,773] Trial 35 finished with value: 0.9666666666666667 and parameters: {'n_estimators': 46, 'max_depth': 28}. Best is trial 0 with value: 1.0.\n",
      "[I 2025-01-07 20:54:15,788] Trial 36 finished with value: 0.9666666666666667 and parameters: {'n_estimators': 2, 'max_depth': 31}. Best is trial 0 with value: 1.0.\n",
      "[I 2025-01-07 20:54:15,875] Trial 37 finished with value: 0.9333333333333333 and parameters: {'n_estimators': 93, 'max_depth': 25}. Best is trial 0 with value: 1.0.\n",
      "[I 2025-01-07 20:54:15,955] Trial 38 finished with value: 1.0 and parameters: {'n_estimators': 81, 'max_depth': 9}. Best is trial 0 with value: 1.0.\n",
      "[I 2025-01-07 20:54:16,031] Trial 39 finished with value: 0.9666666666666667 and parameters: {'n_estimators': 60, 'max_depth': 5}. Best is trial 0 with value: 1.0.\n",
      "[I 2025-01-07 20:54:16,059] Trial 40 finished with value: 1.0 and parameters: {'n_estimators': 11, 'max_depth': 13}. Best is trial 0 with value: 1.0.\n",
      "[I 2025-01-07 20:54:16,142] Trial 41 finished with value: 0.9 and parameters: {'n_estimators': 72, 'max_depth': 29}. Best is trial 0 with value: 1.0.\n",
      "[I 2025-01-07 20:54:16,220] Trial 42 finished with value: 1.0 and parameters: {'n_estimators': 65, 'max_depth': 26}. Best is trial 0 with value: 1.0.\n",
      "[I 2025-01-07 20:54:16,302] Trial 43 finished with value: 0.9666666666666667 and parameters: {'n_estimators': 81, 'max_depth': 20}. Best is trial 0 with value: 1.0.\n",
      "[I 2025-01-07 20:54:16,396] Trial 44 finished with value: 0.9333333333333333 and parameters: {'n_estimators': 85, 'max_depth': 23}. Best is trial 0 with value: 1.0.\n",
      "[I 2025-01-07 20:54:16,500] Trial 45 finished with value: 0.9 and parameters: {'n_estimators': 95, 'max_depth': 32}. Best is trial 0 with value: 1.0.\n",
      "[I 2025-01-07 20:54:16,568] Trial 46 finished with value: 0.9666666666666667 and parameters: {'n_estimators': 53, 'max_depth': 28}. Best is trial 0 with value: 1.0.\n",
      "[I 2025-01-07 20:54:16,620] Trial 47 finished with value: 0.9 and parameters: {'n_estimators': 34, 'max_depth': 16}. Best is trial 0 with value: 1.0.\n",
      "[I 2025-01-07 20:54:16,702] Trial 48 finished with value: 1.0 and parameters: {'n_estimators': 70, 'max_depth': 26}. Best is trial 0 with value: 1.0.\n",
      "[I 2025-01-07 20:54:16,746] Trial 49 finished with value: 0.9 and parameters: {'n_estimators': 29, 'max_depth': 19}. Best is trial 0 with value: 1.0.\n",
      "[I 2025-01-07 20:54:16,803] Trial 50 finished with value: 0.9 and parameters: {'n_estimators': 42, 'max_depth': 22}. Best is trial 0 with value: 1.0.\n",
      "[I 2025-01-07 20:54:16,893] Trial 51 finished with value: 0.9666666666666667 and parameters: {'n_estimators': 85, 'max_depth': 11}. Best is trial 0 with value: 1.0.\n",
      "[I 2025-01-07 20:54:16,974] Trial 52 finished with value: 0.9333333333333333 and parameters: {'n_estimators': 75, 'max_depth': 8}. Best is trial 0 with value: 1.0.\n",
      "[I 2025-01-07 20:54:17,064] Trial 53 finished with value: 1.0 and parameters: {'n_estimators': 80, 'max_depth': 10}. Best is trial 0 with value: 1.0.\n",
      "[I 2025-01-07 20:54:17,153] Trial 54 finished with value: 1.0 and parameters: {'n_estimators': 87, 'max_depth': 12}. Best is trial 0 with value: 1.0.\n",
      "[I 2025-01-07 20:54:17,244] Trial 55 finished with value: 1.0 and parameters: {'n_estimators': 69, 'max_depth': 14}. Best is trial 0 with value: 1.0.\n",
      "[I 2025-01-07 20:54:17,330] Trial 56 finished with value: 1.0 and parameters: {'n_estimators': 79, 'max_depth': 6}. Best is trial 0 with value: 1.0.\n",
      "[I 2025-01-07 20:54:17,393] Trial 57 finished with value: 0.9333333333333333 and parameters: {'n_estimators': 56, 'max_depth': 9}. Best is trial 0 with value: 1.0.\n",
      "[I 2025-01-07 20:54:17,492] Trial 58 finished with value: 0.9 and parameters: {'n_estimators': 96, 'max_depth': 15}. Best is trial 0 with value: 1.0.\n",
      "[I 2025-01-07 20:54:17,559] Trial 59 finished with value: 0.9666666666666667 and parameters: {'n_estimators': 62, 'max_depth': 24}. Best is trial 0 with value: 1.0.\n",
      "[I 2025-01-07 20:54:17,642] Trial 60 finished with value: 0.9333333333333333 and parameters: {'n_estimators': 74, 'max_depth': 17}. Best is trial 0 with value: 1.0.\n",
      "[I 2025-01-07 20:54:17,661] Trial 61 finished with value: 0.9 and parameters: {'n_estimators': 5, 'max_depth': 13}. Best is trial 0 with value: 1.0.\n",
      "[I 2025-01-07 20:54:17,687] Trial 62 finished with value: 0.9666666666666667 and parameters: {'n_estimators': 10, 'max_depth': 12}. Best is trial 0 with value: 1.0.\n",
      "[I 2025-01-07 20:54:17,713] Trial 63 finished with value: 1.0 and parameters: {'n_estimators': 13, 'max_depth': 30}. Best is trial 0 with value: 1.0.\n",
      "[I 2025-01-07 20:54:17,747] Trial 64 finished with value: 0.9 and parameters: {'n_estimators': 19, 'max_depth': 15}. Best is trial 0 with value: 1.0.\n",
      "[I 2025-01-07 20:54:17,768] Trial 65 finished with value: 0.9333333333333333 and parameters: {'n_estimators': 6, 'max_depth': 3}. Best is trial 0 with value: 1.0.\n",
      "[I 2025-01-07 20:54:17,807] Trial 66 finished with value: 0.9333333333333333 and parameters: {'n_estimators': 23, 'max_depth': 18}. Best is trial 0 with value: 1.0.\n",
      "[I 2025-01-07 20:54:17,893] Trial 67 finished with value: 0.9666666666666667 and parameters: {'n_estimators': 83, 'max_depth': 20}. Best is trial 0 with value: 1.0.\n",
      "[I 2025-01-07 20:54:17,915] Trial 68 finished with value: 0.9333333333333333 and parameters: {'n_estimators': 9, 'max_depth': 10}. Best is trial 0 with value: 1.0.\n",
      "[I 2025-01-07 20:54:18,010] Trial 69 finished with value: 0.9333333333333333 and parameters: {'n_estimators': 89, 'max_depth': 27}. Best is trial 0 with value: 1.0.\n",
      "[I 2025-01-07 20:54:18,073] Trial 70 finished with value: 0.9666666666666667 and parameters: {'n_estimators': 49, 'max_depth': 13}. Best is trial 0 with value: 1.0.\n",
      "[I 2025-01-07 20:54:18,148] Trial 71 finished with value: 0.9666666666666667 and parameters: {'n_estimators': 68, 'max_depth': 26}. Best is trial 0 with value: 1.0.\n",
      "[I 2025-01-07 20:54:18,226] Trial 72 finished with value: 0.9333333333333333 and parameters: {'n_estimators': 63, 'max_depth': 25}. Best is trial 0 with value: 1.0.\n",
      "[I 2025-01-07 20:54:18,300] Trial 73 finished with value: 1.0 and parameters: {'n_estimators': 65, 'max_depth': 22}. Best is trial 0 with value: 1.0.\n",
      "[I 2025-01-07 20:54:18,374] Trial 74 finished with value: 0.9 and parameters: {'n_estimators': 72, 'max_depth': 27}. Best is trial 0 with value: 1.0.\n",
      "[I 2025-01-07 20:54:18,454] Trial 75 finished with value: 0.9333333333333333 and parameters: {'n_estimators': 77, 'max_depth': 29}. Best is trial 0 with value: 1.0.\n",
      "[I 2025-01-07 20:54:18,471] Trial 76 finished with value: 0.9 and parameters: {'n_estimators': 3, 'max_depth': 25}. Best is trial 0 with value: 1.0.\n",
      "[I 2025-01-07 20:54:18,531] Trial 77 finished with value: 0.9333333333333333 and parameters: {'n_estimators': 55, 'max_depth': 28}. Best is trial 0 with value: 1.0.\n",
      "[I 2025-01-07 20:54:18,602] Trial 78 finished with value: 0.9333333333333333 and parameters: {'n_estimators': 66, 'max_depth': 21}. Best is trial 0 with value: 1.0.\n",
      "[I 2025-01-07 20:54:18,663] Trial 79 finished with value: 0.9333333333333333 and parameters: {'n_estimators': 58, 'max_depth': 16}. Best is trial 0 with value: 1.0.\n",
      "[I 2025-01-07 20:54:18,690] Trial 80 finished with value: 0.9 and parameters: {'n_estimators': 13, 'max_depth': 19}. Best is trial 0 with value: 1.0.\n",
      "[I 2025-01-07 20:54:18,764] Trial 81 finished with value: 0.9 and parameters: {'n_estimators': 70, 'max_depth': 26}. Best is trial 0 with value: 1.0.\n",
      "[I 2025-01-07 20:54:18,839] Trial 82 finished with value: 0.9333333333333333 and parameters: {'n_estimators': 73, 'max_depth': 30}. Best is trial 0 with value: 1.0.\n",
      "[I 2025-01-07 20:54:18,907] Trial 83 finished with value: 0.9333333333333333 and parameters: {'n_estimators': 67, 'max_depth': 23}. Best is trial 0 with value: 1.0.\n",
      "[I 2025-01-07 20:54:18,986] Trial 84 finished with value: 0.9333333333333333 and parameters: {'n_estimators': 81, 'max_depth': 24}. Best is trial 0 with value: 1.0.\n",
      "[I 2025-01-07 20:54:19,050] Trial 85 finished with value: 0.9 and parameters: {'n_estimators': 61, 'max_depth': 26}. Best is trial 0 with value: 1.0.\n",
      "[I 2025-01-07 20:54:19,124] Trial 86 finished with value: 0.8666666666666667 and parameters: {'n_estimators': 76, 'max_depth': 11}. Best is trial 0 with value: 1.0.\n",
      "[I 2025-01-07 20:54:19,187] Trial 87 finished with value: 0.9333333333333333 and parameters: {'n_estimators': 64, 'max_depth': 14}. Best is trial 0 with value: 1.0.\n",
      "[I 2025-01-07 20:54:19,276] Trial 88 finished with value: 1.0 and parameters: {'n_estimators': 91, 'max_depth': 31}. Best is trial 0 with value: 1.0.\n",
      "[I 2025-01-07 20:54:19,345] Trial 89 finished with value: 0.9333333333333333 and parameters: {'n_estimators': 71, 'max_depth': 27}. Best is trial 0 with value: 1.0.\n",
      "[I 2025-01-07 20:54:19,435] Trial 90 finished with value: 0.9333333333333333 and parameters: {'n_estimators': 97, 'max_depth': 17}. Best is trial 0 with value: 1.0.\n",
      "[I 2025-01-07 20:54:19,475] Trial 91 finished with value: 0.8666666666666667 and parameters: {'n_estimators': 32, 'max_depth': 9}. Best is trial 0 with value: 1.0.\n",
      "[I 2025-01-07 20:54:19,550] Trial 92 finished with value: 0.9666666666666667 and parameters: {'n_estimators': 79, 'max_depth': 9}. Best is trial 0 with value: 1.0.\n",
      "[I 2025-01-07 20:54:19,598] Trial 93 finished with value: 0.9 and parameters: {'n_estimators': 43, 'max_depth': 7}. Best is trial 0 with value: 1.0.\n",
      "[I 2025-01-07 20:54:19,679] Trial 94 finished with value: 0.8666666666666667 and parameters: {'n_estimators': 84, 'max_depth': 11}. Best is trial 0 with value: 1.0.\n",
      "[I 2025-01-07 20:54:19,759] Trial 95 finished with value: 1.0 and parameters: {'n_estimators': 82, 'max_depth': 10}. Best is trial 0 with value: 1.0.\n",
      "[I 2025-01-07 20:54:19,832] Trial 96 finished with value: 0.9666666666666667 and parameters: {'n_estimators': 74, 'max_depth': 8}. Best is trial 0 with value: 1.0.\n",
      "[I 2025-01-07 20:54:19,915] Trial 97 finished with value: 0.8666666666666667 and parameters: {'n_estimators': 87, 'max_depth': 29}. Best is trial 0 with value: 1.0.\n",
      "[I 2025-01-07 20:54:19,994] Trial 98 finished with value: 1.0 and parameters: {'n_estimators': 79, 'max_depth': 12}. Best is trial 0 with value: 1.0.\n",
      "[I 2025-01-07 20:54:20,040] Trial 99 finished with value: 1.0 and parameters: {'n_estimators': 38, 'max_depth': 21}. Best is trial 0 with value: 1.0.\n"
     ]
    },
    {
     "name": "stdout",
     "output_type": "stream",
     "text": [
      "Best trial:\n",
      "  Value: 1.0\n",
      "  Params: \n",
      "    n_estimators: 68\n",
      "    max_depth: 13\n"
     ]
    }
   ],
   "source": [
    "study = optuna.create_study(direction='maximize')\n",
    "study.optimize(objective, n_trials=100)\n",
    "\n",
    "print('Best trial:')\n",
    "trial = study.best_trial\n",
    "print('  Value: {}'.format(trial.value))\n",
    "print('  Params: ')\n",
    "for key, value in trial.params.items():\n",
    "    print('    {}: {}'.format(key, value))\n"
   ]
  },
  {
   "cell_type": "markdown",
   "metadata": {},
   "source": [
    "## Using Scikit-learn’s GridSearchCV"
   ]
  },
  {
   "cell_type": "code",
   "execution_count": 10,
   "metadata": {},
   "outputs": [],
   "source": [
    "from sklearn.model_selection import GridSearchCV\n",
    "\n",
    "param_grid = {\n",
    "    'n_estimators': [10, 50, 100],\n",
    "    'max_depth': [None, 10, 20, 30]\n",
    "}\n"
   ]
  },
  {
   "cell_type": "code",
   "execution_count": 13,
   "metadata": {},
   "outputs": [
    {
     "name": "stdout",
     "output_type": "stream",
     "text": [
      "Best parameters found:  {'max_depth': 20, 'n_estimators': 10}\n"
     ]
    }
   ],
   "source": [
    "clf = RandomForestClassifier()\n",
    "grid_search = GridSearchCV(clf, param_grid, cv=3)\n",
    "grid_search.fit(X_train, y_train)\n",
    "\n",
    "print(\"Best parameters found: \", grid_search.best_params_)\n"
   ]
  },
  {
   "cell_type": "code",
   "execution_count": 18,
   "metadata": {},
   "outputs": [
    {
     "data": {
      "text/plain": [
       "['model.pkl']"
      ]
     },
     "execution_count": 18,
     "metadata": {},
     "output_type": "execute_result"
    }
   ],
   "source": [
    "import joblib\n",
    "\n",
    "# Save the model\n",
    "joblib.dump(clf, 'model.pkl')\n"
   ]
  },
  {
   "cell_type": "markdown",
   "metadata": {},
   "source": [
    "# Model Packaging"
   ]
  },
  {
   "cell_type": "code",
   "execution_count": 20,
   "metadata": {},
   "outputs": [
    {
     "name": "stdout",
     "output_type": "stream",
     "text": [
      " * Serving Flask app '__main__'\n",
      " * Debug mode: off\n"
     ]
    },
    {
     "name": "stderr",
     "output_type": "stream",
     "text": [
      "WARNING: This is a development server. Do not use it in a production deployment. Use a production WSGI server instead.\n",
      " * Running on all addresses (0.0.0.0)\n",
      " * Running on http://127.0.0.1:5000\n",
      " * Running on http://192.168.1.4:5000\n",
      "Press CTRL+C to quit\n",
      "127.0.0.1 - - [07/Jan/2025 21:04:54] \"GET / HTTP/1.1\" 404 -\n",
      "127.0.0.1 - - [07/Jan/2025 21:04:58] \"GET / HTTP/1.1\" 404 -\n"
     ]
    }
   ],
   "source": [
    "from flask import Flask, request, jsonify\n",
    "import joblib\n",
    "\n",
    "app = Flask(__name__)\n",
    "model = joblib.load('model.pkl')  # Ensure this path is correct\n",
    "\n",
    "@app.route('/predict', methods=['POST'])\n",
    "def predict():\n",
    "    data = request.get_json()\n",
    "    prediction = model.predict([data['input']])\n",
    "    return jsonify({'prediction': prediction.tolist()})\n",
    "\n",
    "if __name__ == '__main__':\n",
    "    app.run(host='0.0.0.0', port=5000)\n"
   ]
  }
 ],
 "metadata": {
  "kernelspec": {
   "display_name": "Python 3",
   "language": "python",
   "name": "python3"
  },
  "language_info": {
   "codemirror_mode": {
    "name": "ipython",
    "version": 3
   },
   "file_extension": ".py",
   "mimetype": "text/x-python",
   "name": "python",
   "nbconvert_exporter": "python",
   "pygments_lexer": "ipython3",
   "version": "3.10.15"
  }
 },
 "nbformat": 4,
 "nbformat_minor": 2
}
