{
 "cells": [
  {
   "cell_type": "code",
   "execution_count": 1,
   "metadata": {},
   "outputs": [
    {
     "name": "stdout",
     "output_type": "stream",
     "text": [
      "Requirement already satisfied: flask in c:\\users\\hemam\\miniconda3\\envs\\mlops\\lib\\site-packages (3.1.0)\n",
      "Requirement already satisfied: Werkzeug>=3.1 in c:\\users\\hemam\\miniconda3\\envs\\mlops\\lib\\site-packages (from flask) (3.1.3)\n",
      "Requirement already satisfied: Jinja2>=3.1.2 in c:\\users\\hemam\\miniconda3\\envs\\mlops\\lib\\site-packages (from flask) (3.1.5)\n",
      "Requirement already satisfied: itsdangerous>=2.2 in c:\\users\\hemam\\miniconda3\\envs\\mlops\\lib\\site-packages (from flask) (2.2.0)\n",
      "Requirement already satisfied: click>=8.1.3 in c:\\users\\hemam\\miniconda3\\envs\\mlops\\lib\\site-packages (from flask) (8.1.8)\n",
      "Requirement already satisfied: blinker>=1.9 in c:\\users\\hemam\\miniconda3\\envs\\mlops\\lib\\site-packages (from flask) (1.9.0)\n",
      "Requirement already satisfied: colorama in c:\\users\\hemam\\miniconda3\\envs\\mlops\\lib\\site-packages (from click>=8.1.3->flask) (0.4.6)\n",
      "Requirement already satisfied: MarkupSafe>=2.0 in c:\\users\\hemam\\miniconda3\\envs\\mlops\\lib\\site-packages (from Jinja2>=3.1.2->flask) (3.0.2)\n"
     ]
    }
   ],
   "source": [
    "#!pip install optuna\n",
    "#!pip install flask\n",
    "\n"
   ]
  },
  {
   "cell_type": "markdown",
   "metadata": {},
   "source": [
    "# Hyperparameter Tuning"
   ]
  },
  {
   "cell_type": "markdown",
   "metadata": {},
   "source": [
    "## Using Optuna"
   ]
  },
  {
   "cell_type": "code",
   "execution_count": 3,
   "metadata": {},
   "outputs": [
    {
     "name": "stderr",
     "output_type": "stream",
     "text": [
      "c:\\Users\\hemam\\miniconda3\\envs\\mlops\\lib\\site-packages\\tqdm\\auto.py:21: TqdmWarning: IProgress not found. Please update jupyter and ipywidgets. See https://ipywidgets.readthedocs.io/en/stable/user_install.html\n",
      "  from .autonotebook import tqdm as notebook_tqdm\n"
     ]
    }
   ],
   "source": [
    "import optuna\n",
    "from sklearn.datasets import load_iris\n",
    "from sklearn.model_selection import train_test_split\n",
    "from sklearn.ensemble import RandomForestClassifier\n",
    "from sklearn.metrics import accuracy_score\n",
    "data = load_iris()\n",
    "X_train, X_test, y_train, y_test = train_test_split(data.data, data.target, test_size=0.2)\n",
    "\n",
    "def objective(trial):   \n",
    "\n",
    "    n_estimators = trial.suggest_int('n_estimators', 2, 100)\n",
    "    max_depth = trial.suggest_int('max_depth', 1, 32)\n",
    "    clf = RandomForestClassifier(n_estimators=n_estimators, max_depth=max_depth)\n",
    "\n",
    "    clf.fit(X_train, y_train)\n",
    "    preds = clf.predict(X_test)\n",
    "    accuracy = accuracy_score(y_test, preds)\n",
    "    return accuracy\n"
   ]
  },
  {
   "cell_type": "code",
   "execution_count": 5,
   "metadata": {},
   "outputs": [
    {
     "name": "stderr",
     "output_type": "stream",
     "text": [
      "[I 2025-01-07 21:51:37,764] A new study created in memory with name: no-name-62bf46b9-0766-4f8c-afea-c341bc6bcd47\n",
      "[I 2025-01-07 21:51:37,815] Trial 0 finished with value: 1.0 and parameters: {'n_estimators': 53, 'max_depth': 12}. Best is trial 0 with value: 1.0.\n",
      "[I 2025-01-07 21:51:37,852] Trial 1 finished with value: 1.0 and parameters: {'n_estimators': 38, 'max_depth': 32}. Best is trial 0 with value: 1.0.\n",
      "[I 2025-01-07 21:51:37,871] Trial 2 finished with value: 0.9666666666666667 and parameters: {'n_estimators': 21, 'max_depth': 13}. Best is trial 0 with value: 1.0.\n",
      "[I 2025-01-07 21:51:37,967] Trial 3 finished with value: 1.0 and parameters: {'n_estimators': 98, 'max_depth': 5}. Best is trial 0 with value: 1.0.\n",
      "[I 2025-01-07 21:51:38,001] Trial 4 finished with value: 1.0 and parameters: {'n_estimators': 32, 'max_depth': 24}. Best is trial 0 with value: 1.0.\n",
      "[I 2025-01-07 21:51:38,036] Trial 5 finished with value: 1.0 and parameters: {'n_estimators': 50, 'max_depth': 28}. Best is trial 0 with value: 1.0.\n",
      "[I 2025-01-07 21:51:38,054] Trial 6 finished with value: 0.9666666666666667 and parameters: {'n_estimators': 5, 'max_depth': 10}. Best is trial 0 with value: 1.0.\n",
      "[I 2025-01-07 21:51:38,117] Trial 7 finished with value: 1.0 and parameters: {'n_estimators': 79, 'max_depth': 5}. Best is trial 0 with value: 1.0.\n",
      "[I 2025-01-07 21:51:38,186] Trial 8 finished with value: 1.0 and parameters: {'n_estimators': 96, 'max_depth': 31}. Best is trial 0 with value: 1.0.\n",
      "[I 2025-01-07 21:51:38,213] Trial 9 finished with value: 1.0 and parameters: {'n_estimators': 20, 'max_depth': 27}. Best is trial 0 with value: 1.0.\n",
      "[I 2025-01-07 21:51:38,276] Trial 10 finished with value: 1.0 and parameters: {'n_estimators': 71, 'max_depth': 19}. Best is trial 0 with value: 1.0.\n",
      "[I 2025-01-07 21:51:38,320] Trial 11 finished with value: 1.0 and parameters: {'n_estimators': 54, 'max_depth': 19}. Best is trial 0 with value: 1.0.\n",
      "[I 2025-01-07 21:51:38,374] Trial 12 finished with value: 1.0 and parameters: {'n_estimators': 46, 'max_depth': 14}. Best is trial 0 with value: 1.0.\n",
      "[I 2025-01-07 21:51:38,437] Trial 13 finished with value: 0.9333333333333333 and parameters: {'n_estimators': 65, 'max_depth': 1}. Best is trial 0 with value: 1.0.\n",
      "[I 2025-01-07 21:51:38,472] Trial 14 finished with value: 1.0 and parameters: {'n_estimators': 36, 'max_depth': 21}. Best is trial 0 with value: 1.0.\n",
      "[I 2025-01-07 21:51:38,524] Trial 15 finished with value: 1.0 and parameters: {'n_estimators': 39, 'max_depth': 10}. Best is trial 0 with value: 1.0.\n",
      "[I 2025-01-07 21:51:38,590] Trial 16 finished with value: 1.0 and parameters: {'n_estimators': 62, 'max_depth': 32}. Best is trial 0 with value: 1.0.\n",
      "[I 2025-01-07 21:51:38,623] Trial 17 finished with value: 1.0 and parameters: {'n_estimators': 25, 'max_depth': 15}. Best is trial 0 with value: 1.0.\n",
      "[I 2025-01-07 21:51:38,640] Trial 18 finished with value: 1.0 and parameters: {'n_estimators': 2, 'max_depth': 23}. Best is trial 0 with value: 1.0.\n",
      "[I 2025-01-07 21:51:38,722] Trial 19 finished with value: 1.0 and parameters: {'n_estimators': 85, 'max_depth': 10}. Best is trial 0 with value: 1.0.\n",
      "[I 2025-01-07 21:51:38,790] Trial 20 finished with value: 1.0 and parameters: {'n_estimators': 61, 'max_depth': 17}. Best is trial 0 with value: 1.0.\n",
      "[I 2025-01-07 21:51:38,872] Trial 21 finished with value: 1.0 and parameters: {'n_estimators': 89, 'max_depth': 6}. Best is trial 0 with value: 1.0.\n",
      "[I 2025-01-07 21:51:38,951] Trial 22 finished with value: 1.0 and parameters: {'n_estimators': 77, 'max_depth': 4}. Best is trial 0 with value: 1.0.\n",
      "[I 2025-01-07 21:51:38,975] Trial 23 finished with value: 1.0 and parameters: {'n_estimators': 14, 'max_depth': 2}. Best is trial 0 with value: 1.0.\n",
      "[I 2025-01-07 21:51:39,051] Trial 24 finished with value: 1.0 and parameters: {'n_estimators': 100, 'max_depth': 8}. Best is trial 0 with value: 1.0.\n",
      "[I 2025-01-07 21:51:39,103] Trial 25 finished with value: 1.0 and parameters: {'n_estimators': 45, 'max_depth': 12}. Best is trial 0 with value: 1.0.\n",
      "[I 2025-01-07 21:51:39,172] Trial 26 finished with value: 1.0 and parameters: {'n_estimators': 58, 'max_depth': 7}. Best is trial 0 with value: 1.0.\n",
      "[I 2025-01-07 21:51:39,204] Trial 27 finished with value: 1.0 and parameters: {'n_estimators': 27, 'max_depth': 3}. Best is trial 0 with value: 1.0.\n",
      "[I 2025-01-07 21:51:39,286] Trial 28 finished with value: 1.0 and parameters: {'n_estimators': 71, 'max_depth': 17}. Best is trial 0 with value: 1.0.\n",
      "[I 2025-01-07 21:51:39,305] Trial 29 finished with value: 1.0 and parameters: {'n_estimators': 12, 'max_depth': 12}. Best is trial 0 with value: 1.0.\n",
      "[I 2025-01-07 21:51:39,338] Trial 30 finished with value: 1.0 and parameters: {'n_estimators': 40, 'max_depth': 8}. Best is trial 0 with value: 1.0.\n",
      "[I 2025-01-07 21:51:39,392] Trial 31 finished with value: 1.0 and parameters: {'n_estimators': 32, 'max_depth': 24}. Best is trial 0 with value: 1.0.\n",
      "[I 2025-01-07 21:51:39,421] Trial 32 finished with value: 1.0 and parameters: {'n_estimators': 29, 'max_depth': 29}. Best is trial 0 with value: 1.0.\n",
      "[I 2025-01-07 21:51:39,454] Trial 33 finished with value: 1.0 and parameters: {'n_estimators': 19, 'max_depth': 26}. Best is trial 0 with value: 1.0.\n",
      "[I 2025-01-07 21:51:39,504] Trial 34 finished with value: 1.0 and parameters: {'n_estimators': 50, 'max_depth': 30}. Best is trial 0 with value: 1.0.\n",
      "[I 2025-01-07 21:51:39,538] Trial 35 finished with value: 1.0 and parameters: {'n_estimators': 33, 'max_depth': 25}. Best is trial 0 with value: 1.0.\n",
      "[I 2025-01-07 21:51:39,589] Trial 36 finished with value: 1.0 and parameters: {'n_estimators': 45, 'max_depth': 28}. Best is trial 0 with value: 1.0.\n",
      "[I 2025-01-07 21:51:39,617] Trial 37 finished with value: 1.0 and parameters: {'n_estimators': 9, 'max_depth': 21}. Best is trial 0 with value: 1.0.\n",
      "[I 2025-01-07 21:51:39,704] Trial 38 finished with value: 1.0 and parameters: {'n_estimators': 91, 'max_depth': 32}. Best is trial 0 with value: 1.0.\n",
      "[I 2025-01-07 21:51:39,755] Trial 39 finished with value: 1.0 and parameters: {'n_estimators': 55, 'max_depth': 22}. Best is trial 0 with value: 1.0.\n",
      "[I 2025-01-07 21:51:39,791] Trial 40 finished with value: 1.0 and parameters: {'n_estimators': 19, 'max_depth': 19}. Best is trial 0 with value: 1.0.\n",
      "[I 2025-01-07 21:51:39,836] Trial 41 finished with value: 1.0 and parameters: {'n_estimators': 50, 'max_depth': 27}. Best is trial 0 with value: 1.0.\n",
      "[I 2025-01-07 21:51:39,889] Trial 42 finished with value: 1.0 and parameters: {'n_estimators': 41, 'max_depth': 31}. Best is trial 0 with value: 1.0.\n",
      "[I 2025-01-07 21:51:39,971] Trial 43 finished with value: 1.0 and parameters: {'n_estimators': 73, 'max_depth': 28}. Best is trial 0 with value: 1.0.\n",
      "[I 2025-01-07 21:51:40,013] Trial 44 finished with value: 1.0 and parameters: {'n_estimators': 35, 'max_depth': 30}. Best is trial 0 with value: 1.0.\n",
      "[I 2025-01-07 21:51:40,081] Trial 45 finished with value: 1.0 and parameters: {'n_estimators': 67, 'max_depth': 15}. Best is trial 0 with value: 1.0.\n",
      "[I 2025-01-07 21:51:40,141] Trial 46 finished with value: 1.0 and parameters: {'n_estimators': 54, 'max_depth': 26}. Best is trial 0 with value: 1.0.\n",
      "[I 2025-01-07 21:51:40,189] Trial 47 finished with value: 1.0 and parameters: {'n_estimators': 43, 'max_depth': 31}. Best is trial 0 with value: 1.0.\n",
      "[I 2025-01-07 21:51:40,220] Trial 48 finished with value: 1.0 and parameters: {'n_estimators': 22, 'max_depth': 29}. Best is trial 0 with value: 1.0.\n",
      "[I 2025-01-07 21:51:40,303] Trial 49 finished with value: 1.0 and parameters: {'n_estimators': 82, 'max_depth': 20}. Best is trial 0 with value: 1.0.\n",
      "[I 2025-01-07 21:51:40,337] Trial 50 finished with value: 1.0 and parameters: {'n_estimators': 37, 'max_depth': 24}. Best is trial 0 with value: 1.0.\n",
      "[I 2025-01-07 21:51:40,435] Trial 51 finished with value: 1.0 and parameters: {'n_estimators': 94, 'max_depth': 5}. Best is trial 0 with value: 1.0.\n",
      "[I 2025-01-07 21:51:40,506] Trial 52 finished with value: 1.0 and parameters: {'n_estimators': 81, 'max_depth': 10}. Best is trial 0 with value: 1.0.\n",
      "[I 2025-01-07 21:51:40,620] Trial 53 finished with value: 0.9666666666666667 and parameters: {'n_estimators': 100, 'max_depth': 1}. Best is trial 0 with value: 1.0.\n",
      "[I 2025-01-07 21:51:40,707] Trial 54 finished with value: 1.0 and parameters: {'n_estimators': 87, 'max_depth': 5}. Best is trial 0 with value: 1.0.\n",
      "[I 2025-01-07 21:51:40,773] Trial 55 finished with value: 1.0 and parameters: {'n_estimators': 64, 'max_depth': 8}. Best is trial 0 with value: 1.0.\n",
      "[I 2025-01-07 21:51:40,822] Trial 56 finished with value: 1.0 and parameters: {'n_estimators': 48, 'max_depth': 3}. Best is trial 0 with value: 1.0.\n",
      "[I 2025-01-07 21:51:40,888] Trial 57 finished with value: 1.0 and parameters: {'n_estimators': 60, 'max_depth': 11}. Best is trial 0 with value: 1.0.\n",
      "[I 2025-01-07 21:51:40,987] Trial 58 finished with value: 1.0 and parameters: {'n_estimators': 96, 'max_depth': 14}. Best is trial 0 with value: 1.0.\n",
      "[I 2025-01-07 21:51:41,054] Trial 59 finished with value: 1.0 and parameters: {'n_estimators': 76, 'max_depth': 16}. Best is trial 0 with value: 1.0.\n",
      "[I 2025-01-07 21:51:41,119] Trial 60 finished with value: 1.0 and parameters: {'n_estimators': 52, 'max_depth': 5}. Best is trial 0 with value: 1.0.\n",
      "[I 2025-01-07 21:51:41,204] Trial 61 finished with value: 1.0 and parameters: {'n_estimators': 93, 'max_depth': 31}. Best is trial 0 with value: 1.0.\n",
      "[I 2025-01-07 21:51:41,268] Trial 62 finished with value: 1.0 and parameters: {'n_estimators': 84, 'max_depth': 32}. Best is trial 0 with value: 1.0.\n",
      "[I 2025-01-07 21:51:41,381] Trial 63 finished with value: 1.0 and parameters: {'n_estimators': 97, 'max_depth': 7}. Best is trial 0 with value: 1.0.\n",
      "[I 2025-01-07 21:51:41,455] Trial 64 finished with value: 1.0 and parameters: {'n_estimators': 69, 'max_depth': 30}. Best is trial 0 with value: 1.0.\n",
      "[I 2025-01-07 21:51:41,502] Trial 65 finished with value: 1.0 and parameters: {'n_estimators': 28, 'max_depth': 28}. Best is trial 0 with value: 1.0.\n",
      "[I 2025-01-07 21:51:41,593] Trial 66 finished with value: 1.0 and parameters: {'n_estimators': 89, 'max_depth': 9}. Best is trial 0 with value: 1.0.\n",
      "[I 2025-01-07 21:51:41,621] Trial 67 finished with value: 1.0 and parameters: {'n_estimators': 24, 'max_depth': 29}. Best is trial 0 with value: 1.0.\n",
      "[I 2025-01-07 21:51:41,656] Trial 68 finished with value: 1.0 and parameters: {'n_estimators': 31, 'max_depth': 26}. Best is trial 0 with value: 1.0.\n",
      "[I 2025-01-07 21:51:41,738] Trial 69 finished with value: 1.0 and parameters: {'n_estimators': 78, 'max_depth': 3}. Best is trial 0 with value: 1.0.\n",
      "[I 2025-01-07 21:51:41,793] Trial 70 finished with value: 1.0 and parameters: {'n_estimators': 57, 'max_depth': 13}. Best is trial 0 with value: 1.0.\n",
      "[I 2025-01-07 21:51:41,817] Trial 71 finished with value: 1.0 and parameters: {'n_estimators': 16, 'max_depth': 24}. Best is trial 0 with value: 1.0.\n",
      "[I 2025-01-07 21:51:41,838] Trial 72 finished with value: 1.0 and parameters: {'n_estimators': 6, 'max_depth': 27}. Best is trial 0 with value: 1.0.\n",
      "[I 2025-01-07 21:51:41,872] Trial 73 finished with value: 1.0 and parameters: {'n_estimators': 39, 'max_depth': 32}. Best is trial 0 with value: 1.0.\n",
      "[I 2025-01-07 21:51:41,901] Trial 74 finished with value: 1.0 and parameters: {'n_estimators': 25, 'max_depth': 18}. Best is trial 0 with value: 1.0.\n",
      "[I 2025-01-07 21:51:41,939] Trial 75 finished with value: 1.0 and parameters: {'n_estimators': 35, 'max_depth': 27}. Best is trial 0 with value: 1.0.\n",
      "[I 2025-01-07 21:51:41,988] Trial 76 finished with value: 1.0 and parameters: {'n_estimators': 47, 'max_depth': 22}. Best is trial 0 with value: 1.0.\n",
      "[I 2025-01-07 21:51:42,032] Trial 77 finished with value: 1.0 and parameters: {'n_estimators': 43, 'max_depth': 29}. Best is trial 0 with value: 1.0.\n",
      "[I 2025-01-07 21:51:42,068] Trial 78 finished with value: 1.0 and parameters: {'n_estimators': 31, 'max_depth': 31}. Best is trial 0 with value: 1.0.\n",
      "[I 2025-01-07 21:51:42,084] Trial 79 finished with value: 1.0 and parameters: {'n_estimators': 17, 'max_depth': 30}. Best is trial 0 with value: 1.0.\n",
      "[I 2025-01-07 21:51:42,167] Trial 80 finished with value: 1.0 and parameters: {'n_estimators': 92, 'max_depth': 25}. Best is trial 0 with value: 1.0.\n",
      "[I 2025-01-07 21:51:42,248] Trial 81 finished with value: 1.0 and parameters: {'n_estimators': 97, 'max_depth': 19}. Best is trial 0 with value: 1.0.\n",
      "[I 2025-01-07 21:51:42,300] Trial 82 finished with value: 1.0 and parameters: {'n_estimators': 64, 'max_depth': 25}. Best is trial 0 with value: 1.0.\n",
      "[I 2025-01-07 21:51:42,367] Trial 83 finished with value: 1.0 and parameters: {'n_estimators': 88, 'max_depth': 23}. Best is trial 0 with value: 1.0.\n",
      "[I 2025-01-07 21:51:42,453] Trial 84 finished with value: 1.0 and parameters: {'n_estimators': 85, 'max_depth': 6}. Best is trial 0 with value: 1.0.\n",
      "[I 2025-01-07 21:51:42,537] Trial 85 finished with value: 1.0 and parameters: {'n_estimators': 74, 'max_depth': 28}. Best is trial 0 with value: 1.0.\n",
      "[I 2025-01-07 21:51:42,620] Trial 86 finished with value: 1.0 and parameters: {'n_estimators': 80, 'max_depth': 21}. Best is trial 0 with value: 1.0.\n",
      "[I 2025-01-07 21:51:42,684] Trial 87 finished with value: 1.0 and parameters: {'n_estimators': 61, 'max_depth': 4}. Best is trial 0 with value: 1.0.\n",
      "[I 2025-01-07 21:51:42,747] Trial 88 finished with value: 1.0 and parameters: {'n_estimators': 57, 'max_depth': 2}. Best is trial 0 with value: 1.0.\n",
      "[I 2025-01-07 21:51:42,772] Trial 89 finished with value: 1.0 and parameters: {'n_estimators': 12, 'max_depth': 17}. Best is trial 0 with value: 1.0.\n",
      "[I 2025-01-07 21:51:42,834] Trial 90 finished with value: 1.0 and parameters: {'n_estimators': 70, 'max_depth': 31}. Best is trial 0 with value: 1.0.\n",
      "[I 2025-01-07 21:51:42,899] Trial 91 finished with value: 1.0 and parameters: {'n_estimators': 54, 'max_depth': 19}. Best is trial 0 with value: 1.0.\n",
      "[I 2025-01-07 21:51:42,939] Trial 92 finished with value: 1.0 and parameters: {'n_estimators': 52, 'max_depth': 18}. Best is trial 0 with value: 1.0.\n",
      "[I 2025-01-07 21:51:42,989] Trial 93 finished with value: 1.0 and parameters: {'n_estimators': 45, 'max_depth': 15}. Best is trial 0 with value: 1.0.\n",
      "[I 2025-01-07 21:51:43,039] Trial 94 finished with value: 1.0 and parameters: {'n_estimators': 59, 'max_depth': 22}. Best is trial 0 with value: 1.0.\n",
      "[I 2025-01-07 21:51:43,120] Trial 95 finished with value: 1.0 and parameters: {'n_estimators': 99, 'max_depth': 7}. Best is trial 0 with value: 1.0.\n",
      "[I 2025-01-07 21:51:43,176] Trial 96 finished with value: 1.0 and parameters: {'n_estimators': 37, 'max_depth': 20}. Best is trial 0 with value: 1.0.\n",
      "[I 2025-01-07 21:51:43,222] Trial 97 finished with value: 1.0 and parameters: {'n_estimators': 49, 'max_depth': 16}. Best is trial 0 with value: 1.0.\n",
      "[I 2025-01-07 21:51:43,283] Trial 98 finished with value: 1.0 and parameters: {'n_estimators': 67, 'max_depth': 12}. Best is trial 0 with value: 1.0.\n",
      "[I 2025-01-07 21:51:43,379] Trial 99 finished with value: 1.0 and parameters: {'n_estimators': 95, 'max_depth': 14}. Best is trial 0 with value: 1.0.\n"
     ]
    },
    {
     "name": "stdout",
     "output_type": "stream",
     "text": [
      "Best trial:\n",
      "  Value: 1.0\n",
      "  Params: \n",
      "    n_estimators: 53\n",
      "    max_depth: 12\n"
     ]
    }
   ],
   "source": [
    "study = optuna.create_study(direction='maximize')\n",
    "study.optimize(objective, n_trials=100)\n",
    "\n",
    "print('Best trial:')\n",
    "trial = study.best_trial\n",
    "print('  Value: {}'.format(trial.value))\n",
    "print('  Params: ')\n",
    "for key, value in trial.params.items():\n",
    "    print('    {}: {}'.format(key, value))\n"
   ]
  },
  {
   "cell_type": "markdown",
   "metadata": {},
   "source": [
    "## Using Scikit-learn’s GridSearchCV"
   ]
  },
  {
   "cell_type": "code",
   "execution_count": 6,
   "metadata": {},
   "outputs": [],
   "source": [
    "from sklearn.model_selection import GridSearchCV\n",
    "\n",
    "param_grid = {\n",
    "    'n_estimators': [10, 50, 100],\n",
    "    'max_depth': [None, 10, 20, 30]\n",
    "}\n"
   ]
  },
  {
   "cell_type": "code",
   "execution_count": 8,
   "metadata": {},
   "outputs": [
    {
     "name": "stdout",
     "output_type": "stream",
     "text": [
      "Best parameters found:  {'max_depth': None, 'n_estimators': 50}\n"
     ]
    },
    {
     "data": {
      "text/plain": [
       "array([1, 2, 2, 1, 2, 0, 2, 1, 2, 2, 2, 0, 0, 0, 0, 0, 2, 1, 0, 1, 1, 1,\n",
       "       2, 0, 1, 1, 0, 1, 1, 0])"
      ]
     },
     "execution_count": 8,
     "metadata": {},
     "output_type": "execute_result"
    }
   ],
   "source": [
    "clf = RandomForestClassifier()\n",
    "grid_search = GridSearchCV(clf, param_grid, cv=3)\n",
    "grid_search.fit(X_train, y_train)\n",
    "\n",
    "print(\"Best parameters found: \", grid_search.best_params_)\n",
    "\n",
    "\n",
    "grid_search.predict(X_test)\n"
   ]
  },
  {
   "cell_type": "code",
   "execution_count": 6,
   "metadata": {},
   "outputs": [
    {
     "data": {
      "text/plain": [
       "['model.pkl']"
      ]
     },
     "execution_count": 6,
     "metadata": {},
     "output_type": "execute_result"
    }
   ],
   "source": [
    "import joblib\n",
    "\n",
    "# Save the model\n",
    "joblib.dump(clf, 'model.pkl')\n"
   ]
  },
  {
   "cell_type": "markdown",
   "metadata": {},
   "source": [
    "# Model Packaging"
   ]
  },
  {
   "cell_type": "markdown",
   "metadata": {},
   "source": [
    "## Create a Flask Application"
   ]
  },
  {
   "cell_type": "code",
   "execution_count": 7,
   "metadata": {},
   "outputs": [
    {
     "name": "stdout",
     "output_type": "stream",
     "text": [
      " * Serving Flask app '__main__'\n",
      " * Debug mode: off\n"
     ]
    },
    {
     "name": "stderr",
     "output_type": "stream",
     "text": [
      "WARNING: This is a development server. Do not use it in a production deployment. Use a production WSGI server instead.\n",
      " * Running on all addresses (0.0.0.0)\n",
      " * Running on http://127.0.0.1:5000\n",
      " * Running on http://192.168.1.4:5000\n",
      "Press CTRL+C to quit\n",
      "127.0.0.1 - - [07/Jan/2025 21:24:58] \"GET / HTTP/1.1\" 404 -\n"
     ]
    }
   ],
   "source": [
    "from flask import Flask, request, jsonify\n",
    "import joblib\n",
    "\n",
    "app = Flask(__name__)\n",
    "model = joblib.load('model.pkl')  # Ensure this path is correct\n",
    "\n",
    "@app.route('/predict', methods=['POST'])\n",
    "def predict():\n",
    "    data = request.get_json()\n",
    "    prediction = model.predict([data['input']])\n",
    "    return jsonify({'prediction': prediction.tolist()})\n",
    "\n",
    "if __name__ == '__main__':\n",
    "    app.run(host='0.0.0.0', port=5000)\n"
   ]
  },
  {
   "cell_type": "markdown",
   "metadata": {},
   "source": [
    "## Create a Dockerfile"
   ]
  },
  {
   "cell_type": "code",
   "execution_count": 8,
   "metadata": {},
   "outputs": [
    {
     "ename": "SyntaxError",
     "evalue": "invalid syntax (1181971237.py, line 1)",
     "output_type": "error",
     "traceback": [
      "\u001b[1;36m  Cell \u001b[1;32mIn[8], line 1\u001b[1;36m\u001b[0m\n\u001b[1;33m    FROM python:3.8-slim\u001b[0m\n\u001b[1;37m         ^\u001b[0m\n\u001b[1;31mSyntaxError\u001b[0m\u001b[1;31m:\u001b[0m invalid syntax\n"
     ]
    }
   ],
   "source": [
    "FROM python:3.8-slim\n",
    "\n",
    "WORKDIR /app\n",
    "\n",
    "COPY requirements.txt requirements.txt\n",
    "RUN pip install -r requirements.txt\n",
    "\n",
    "COPY . .\n",
    "\n",
    "CMD [\"python\", \"app.py\"]\n"
   ]
  },
  {
   "cell_type": "markdown",
   "metadata": {},
   "source": [
    "## Build and Run Docker Container"
   ]
  },
  {
   "cell_type": "code",
   "execution_count": 2,
   "metadata": {},
   "outputs": [
    {
     "ename": "SyntaxError",
     "evalue": "invalid syntax (1328916582.py, line 1)",
     "output_type": "error",
     "traceback": [
      "\u001b[1;36m  Cell \u001b[1;32mIn[2], line 1\u001b[1;36m\u001b[0m\n\u001b[1;33m    docker build -t my_model .\u001b[0m\n\u001b[1;37m           ^\u001b[0m\n\u001b[1;31mSyntaxError\u001b[0m\u001b[1;31m:\u001b[0m invalid syntax\n"
     ]
    }
   ],
   "source": [
    "docker build -t my_model .\n",
    "docker run -p 5000:5000 my_model\n"
   ]
  }
 ],
 "metadata": {
  "kernelspec": {
   "display_name": "Python 3",
   "language": "python",
   "name": "python3"
  },
  "language_info": {
   "codemirror_mode": {
    "name": "ipython",
    "version": 3
   },
   "file_extension": ".py",
   "mimetype": "text/x-python",
   "name": "python",
   "nbconvert_exporter": "python",
   "pygments_lexer": "ipython3",
   "version": "3.10.15"
  }
 },
 "nbformat": 4,
 "nbformat_minor": 2
}
